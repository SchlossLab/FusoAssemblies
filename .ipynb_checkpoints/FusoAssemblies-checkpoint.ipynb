{
 "metadata": {
  "name": ""
 },
 "nbformat": 3,
 "nbformat_minor": 0,
 "worksheets": [
  {
   "cells": [
    {
     "cell_type": "heading",
     "level": 2,
     "metadata": {},
     "source": [
      "Learning to use SOAPdenovo2"
     ]
    },
    {
     "cell_type": "markdown",
     "metadata": {},
     "source": [
      "I chose to use the Short Oligonucleotide Analysis Package to do the short-read assemblies because an earlier version is what was used to create the assemblies published through the HMP. This way may Fuso assemblies will be similar to the Whole-genome assemblies that have been published. \n",
      "\n",
      "After downloading and installing the software onto axiom in ~/bin, I had to make a config file. To start I used the parameters in the HMP protocol here http://hmpdacc.org/doc/HMP_Assembly_SOP.pdf. I tried to assemble a single sample called 'practice' using the following command."
     ]
    },
    {
     "cell_type": "code",
     "collapsed": false,
     "input": [
      "quicksubmit \"SOAPdenovo-63mer all -s config_practice -K 25 -R -M 3 -d 1 -o practice\""
     ],
     "language": "python",
     "metadata": {},
     "outputs": []
    },
    {
     "cell_type": "markdown",
     "metadata": {},
     "source": [
      "Even though axiom said it aborted the job because it 'exceeded the MEM usage hard limit' (need to ask Kathryn about this), it still created all the outfiles and the logfile (SOAPdenovo-63mer.511387.axiom.localdomain.pbsout) on axiom shows that it seems to have finished. The file practice.scafSeq contails all of the scaffolds with their sequences. "
     ]
    }
   ],
   "metadata": {}
  }
 ]
}